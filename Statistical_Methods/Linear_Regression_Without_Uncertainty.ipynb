{
 "cells": [
  {
   "cell_type": "code",
   "execution_count": null,
   "metadata": {},
   "outputs": [],
   "source": [
    "# Equations used to determine slope and intercept can be found here: https://www.youtube.com/watch?v=GhrxgbQnEEU\n",
    "\n",
    "std_x = (((np.std(x) ** 2) * len(x)) / (len(x) - 1))**0.5 # std_mV is the sample standard deviation\n",
    "std_y = (((np.std(y) ** 2) * len(y)) / (len(y) - 1))**0.5 # std_Kelvin is the sample standard deviation\n",
    "\n",
    "x_mean = np.mean(x) # x mean\n",
    "y_mean = np.mean(y) # y mean\n",
    "\n",
    "r = sum((x - x_mean) * (y - y_mean)) / (np.sqrt(sum((x - x_mean) ** 2) * sum((y - y_mean) ** 2)))  \n",
    "\n",
    "m = r * (std_y / std_x)\n",
    "b = y_mean - (m * x_mean)"
   ]
  }
 ],
 "metadata": {
  "kernelspec": {
   "display_name": "Python 3",
   "language": "python",
   "name": "python3"
  },
  "language_info": {
   "codemirror_mode": {
    "name": "ipython",
    "version": 3
   },
   "file_extension": ".py",
   "mimetype": "text/x-python",
   "name": "python",
   "nbconvert_exporter": "python",
   "pygments_lexer": "ipython3",
   "version": "3.7.1"
  }
 },
 "nbformat": 4,
 "nbformat_minor": 2
}
