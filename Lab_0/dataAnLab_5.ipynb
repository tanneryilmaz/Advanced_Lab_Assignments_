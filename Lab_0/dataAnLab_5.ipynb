{
 "cells": [
  {
   "cell_type": "code",
   "execution_count": 7,
   "metadata": {},
   "outputs": [
    {
     "name": "stdout",
     "output_type": "stream",
     "text": [
      "data_mean: 20.741000000000003\n",
      "data_st_dev: 0.3649794514763819\n",
      "mean_st_dev: 0.11541663658242714\n",
      "Refraction index = 1.4118545532570763\n"
     ]
    }
   ],
   "source": [
    "import numpy as np\n",
    "import math\n",
    "data = np.array([20.73, 21.21, 21.10, 19.99, 21.09, 20.96, 20.64, 20.56, 20.64, 20.49])\n",
    "\n",
    "data_mean = sum(data) / len(data)\n",
    "data_st_dev = math.sqrt(sum((data - data_mean)**2) / (len(data) - 1))\n",
    "mean_st_dev = data_st_dev / math.sqrt(len(data))\n",
    "print(\"data_mean: \" + str(data_mean))\n",
    "print(\"data_st_dev: \" + str(data_st_dev))\n",
    "print(\"mean_st_dev: \" + str(mean_st_dev))\n",
    "\n",
    "# using snell's law to calculate index of refraction of unknown material \n",
    "refrac_indx = math.sin((30/360)*2*3.14159) / math.sin((data_mean/360) * 2 * 3.14159)\n",
    "\n",
    "print(\"Refraction index = \" + str(refrac_indx))"
   ]
  }
 ],
 "metadata": {
  "kernelspec": {
   "display_name": "Python 3",
   "language": "python",
   "name": "python3"
  },
  "language_info": {
   "codemirror_mode": {
    "name": "ipython",
    "version": 3
   },
   "file_extension": ".py",
   "mimetype": "text/x-python",
   "name": "python",
   "nbconvert_exporter": "python",
   "pygments_lexer": "ipython3",
   "version": "3.7.1"
  }
 },
 "nbformat": 4,
 "nbformat_minor": 2
}
