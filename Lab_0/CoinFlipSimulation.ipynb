{
 "cells": [
  {
   "cell_type": "code",
   "execution_count": 11,
   "metadata": {},
   "outputs": [
    {
     "name": "stdout",
     "output_type": "stream",
     "text": [
      "{0.0: 4374279, 1.0: 2503076, 2.0: 2498538, 4.0: 624107}\n"
     ]
    },
    {
     "data": {
      "image/png": "[encoded data removed]",
      "text/plain": [
       "<Figure size 432x288 with 1 Axes>"
      ]
     },
     "metadata": {
      "needs_background": "light"
     },
     "output_type": "display_data"
    }
   ],
   "source": [
    "# z is defined as the number of nickels that land on heads multiplied by the number of pennies that land on heads\n",
    "import numpy as np\n",
    "import matplotlib.pyplot as plt\n",
    "import math\n",
    "flip_count = 10000000 #flip_count is how many times we want the simulation to be run\n",
    "\n",
    "def flip():\n",
    "    '''This function returns an array of length flip_count whose elements store either a 1 or a 0'''\n",
    "    coin = [0, 1] #0 is tails, 1 is heads\n",
    "    return np.random.choice(coin, flip_count, p = [0.5, 0.5]) #generating array whose elements have value of 0 or 1\n",
    "\n",
    "nickel1 = flip()\n",
    "nickel2 = flip()\n",
    "penny1 = flip()\n",
    "penny2 = flip()\n",
    "\n",
    "z_array = np.zeros(flip_count) #initializing all z_array elements to zero\n",
    "\n",
    "for i in range(flip_count):\n",
    "    '''This for loop calculates a value of z for each iteration of the simulation and puts that value into z_array'''\n",
    "    z_array[i] = (nickel1[i] + nickel2[i]) * (penny1[i] + penny2[i])\n",
    "\n",
    "unique, counts = np.unique(z_array, return_counts=True) \n",
    "print(dict(zip(unique, counts))) #prints each value of z and the number of times it occured during the simulation\n",
    "\n",
    "def calculate_z_avg():\n",
    "    '''This function returns the average value of z'''\n",
    "    temp = 0\n",
    "    for i in range(len(unique)):\n",
    "        temp += (counts[i] * unique[i])\n",
    "    return temp / flip_count \n",
    "\n",
    "plt.bar(x = list(unique), height = list(counts))\n",
    "plt.xlabel(\"Z\")\n",
    "plt.ylabel(\"Count\")\n",
    "\n",
    "z_avg = calculate_z_avg()\n",
    "\n",
    "# These formulas are not applicable because the data is not normally distributed. The data follows a poisson distribution. \n",
    "# z_st_dev = math.sqrt(sum((z_array - z_avg)**2) / (flip_count-1)) \n",
    "\n",
    "sample_mean_st_dev = math.sqrt(z_avg) / math.sqrt(flip_count)\n"
   ]
  },
  {
   "cell_type": "code",
   "execution_count": 7,
   "metadata": {},
   "outputs": [
    {
     "name": "stdout",
     "output_type": "stream",
     "text": [
      "a) Z = 0, 1, 2, 4\n",
      "b) Z = 0 has probability of 45 percent. Z = 1 and Z = 2 have a probability of 25 percent. Z = 4 probability of 5 percent\n",
      "c) Most probable Z value is 0. Least probable Z value is 4\n",
      "d) Mean value of Z for a very large number of throws is 1.00\n",
      "e) Values of z for 25 throws:\n",
      "  [0.0, 4.0, 0.0, 1.0, 2.0, 1.0, 0.0, 0.0, 0.0, 0.0, 2.0, 0.0, 0.0, 0.0, 0.0, 1.0, 0.0, 1.0, 1.0, 0.0, 0.0, 0.0, 4.0, 2.0, 0.0]\n",
      "f) Average value of z for 25 simulations: 0.76\n",
      "   Sample standard deviation: 0.8717797887081347\n",
      "   Standard deviation of mean: 0.17435595774162693\n",
      "g) The sample mean differs from the expected mean by 0.24. This corresponds to a z-score of: -0.2752988806446741\n"
     ]
    },
    {
     "data": {
      "image/png": "[encoded data removed]",
      "text/plain": [
       "<Figure size 432x288 with 1 Axes>"
      ]
     },
     "metadata": {
      "needs_background": "light"
     },
     "output_type": "display_data"
    }
   ],
   "source": [
    "z_probablilty = [counts[0]/flip_count, counts[1]/flip_count, counts[2]/flip_count, counts[3]/flip_count]\n",
    "\n",
    "print(\"a) Z = 0, 1, 2, 4\")\n",
    "print(\"b) Z = 0 has probability of 45 percent. Z = 1 and Z = 2 have a probability of 25 percent. Z = 4 probability of 5 percent\")\n",
    "print(\"c) Most probable Z value is 0. Least probable Z value is 4\")   \n",
    "print(\"d) Mean value of Z for a very large number of throws is 1.00\")\n",
    "print(\"e) Values of z for 25 throws:\\n  \" + str(list(z_array[0:25])))\n",
    "    \n",
    "    \n",
    "plt.bar(x = list(unique), height = list(counts))\n",
    "plt.xlabel(\"Z\")\n",
    "plt.ylabel(\"Count\")\n",
    "\n",
    "print(\"f) Average value of z for \" + str(flip_count) + \" simulations: \" + str(z_avg))\n",
    "print(\"   Sample standard deviation: \" + str(math.sqrt(z_avg)))\n",
    "print(\"   Standard deviation of mean: \" + str(sample_mean_st_dev))\n",
    "print(\"g) The sample mean differs from the expected mean by 0.24. This corresponds to a z-score of: \" + \n",
    "      str(((z_avg-1) / math.sqrt(z_avg))))"
   ]
  },
  {
   "cell_type": "code",
   "execution_count": null,
   "metadata": {},
   "outputs": [],
   "source": []
  }
 ],
 "metadata": {
  "kernelspec": {
   "display_name": "Python 3",
   "language": "python",
   "name": "python3"
  },
  "language_info": {
   "codemirror_mode": {
    "name": "ipython",
    "version": 3
   },
   "file_extension": ".py",
   "mimetype": "text/x-python",
   "name": "python",
   "nbconvert_exporter": "python",
   "pygments_lexer": "ipython3",
   "version": "3.7.1"
  }
 },
 "nbformat": 4,
 "nbformat_minor": 2
}
