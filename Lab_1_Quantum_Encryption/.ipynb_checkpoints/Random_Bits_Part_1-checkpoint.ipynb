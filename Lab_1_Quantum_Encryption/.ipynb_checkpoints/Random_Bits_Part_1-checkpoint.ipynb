{
 "cells": [
  {
   "cell_type": "code",
   "execution_count": 2,
   "metadata": {},
   "outputs": [],
   "source": [
    "import numpy as np"
   ]
  },
  {
   "cell_type": "code",
   "execution_count": 22,
   "metadata": {},
   "outputs": [],
   "source": [
    "bases = [\"+\", \"x\"]\n",
    "bits = [0, 1]"
   ]
  },
  {
   "cell_type": "code",
   "execution_count": 28,
   "metadata": {
    "scrolled": true
   },
   "outputs": [
    {
     "data": {
      "text/plain": [
       "array([['+', '+', 'x', 'x', 'x', 'x', '+', '+'],\n",
       "       ['x', 'x', 'x', '+', 'x', '+', '+', '+'],\n",
       "       ['+', 'x', 'x', '+', '+', '+', 'x', 'x'],\n",
       "       ['+', 'x', 'x', 'x', 'x', 'x', 'x', 'x'],\n",
       "       ['+', 'x', 'x', '+', 'x', 'x', '+', '+'],\n",
       "       ['+', '+', '+', '+', '+', '+', 'x', '+'],\n",
       "       ['x', 'x', 'x', 'x', '+', '+', 'x', '+'],\n",
       "       ['x', 'x', 'x', '+', '+', '+', '+', '+'],\n",
       "       ['+', '+', '+', 'x', 'x', 'x', '+', 'x'],\n",
       "       ['x', 'x', 'x', 'x', '+', '+', 'x', '+']], dtype='<U1')"
      ]
     },
     "execution_count": 28,
     "metadata": {},
     "output_type": "execute_result"
    }
   ],
   "source": [
    "random_bases_alice = np.random.choice(bases, size = (10, 8))\n",
    "random_bases_bob = np.random.choice(bases, size = (10, 8))\n",
    "random_bits_alice = np.random.choice(bits, size = (10, 8))\n",
    "random_bases_alice"
   ]
  },
  {
   "cell_type": "code",
   "execution_count": 29,
   "metadata": {},
   "outputs": [
    {
     "data": {
      "text/plain": [
       "array([['+', 'x', '+', 'x', 'x', '+', 'x', '+'],\n",
       "       ['+', '+', '+', 'x', 'x', '+', 'x', 'x'],\n",
       "       ['+', 'x', '+', 'x', 'x', 'x', '+', '+'],\n",
       "       ['x', 'x', '+', 'x', '+', '+', 'x', 'x'],\n",
       "       ['+', 'x', '+', 'x', '+', 'x', 'x', 'x'],\n",
       "       ['+', '+', '+', '+', '+', '+', '+', '+'],\n",
       "       ['x', 'x', '+', '+', 'x', 'x', '+', '+'],\n",
       "       ['+', '+', '+', '+', '+', 'x', 'x', '+'],\n",
       "       ['x', '+', 'x', 'x', 'x', 'x', 'x', 'x'],\n",
       "       ['+', '+', 'x', '+', 'x', '+', '+', 'x']], dtype='<U1')"
      ]
     },
     "execution_count": 29,
     "metadata": {},
     "output_type": "execute_result"
    }
   ],
   "source": [
    "random_bases_bob"
   ]
  },
  {
   "cell_type": "code",
   "execution_count": 30,
   "metadata": {},
   "outputs": [
    {
     "data": {
      "text/plain": [
       "array([[0, 1, 0, 0, 0, 1, 0, 1],\n",
       "       [0, 0, 0, 1, 1, 0, 1, 1],\n",
       "       [0, 1, 0, 1, 0, 1, 1, 1],\n",
       "       [0, 1, 0, 0, 0, 0, 0, 1],\n",
       "       [0, 0, 0, 1, 1, 1, 1, 0],\n",
       "       [1, 1, 1, 0, 0, 0, 1, 0],\n",
       "       [0, 1, 1, 1, 1, 1, 0, 1],\n",
       "       [1, 0, 1, 1, 1, 1, 0, 1],\n",
       "       [0, 0, 0, 0, 1, 1, 0, 1],\n",
       "       [0, 1, 1, 1, 0, 0, 0, 0]])"
      ]
     },
     "execution_count": 30,
     "metadata": {},
     "output_type": "execute_result"
    }
   ],
   "source": [
    "random_bits_alice"
   ]
  },
  {
   "cell_type": "code",
   "execution_count": null,
   "metadata": {},
   "outputs": [],
   "source": []
  },
  {
   "cell_type": "code",
   "execution_count": 4,
   "metadata": {},
   "outputs": [],
   "source": [
    "alice_bases = np.array([['+', '+', 'x', 'x', 'x', 'x', '+', '+'],\n",
    "       ['x', 'x', 'x', '+', 'x', '+', '+', '+'],\n",
    "       ['+', 'x', 'x', '+', '+', '+', 'x', 'x'],\n",
    "       ['+', 'x', 'x', 'x', 'x', 'x', 'x', 'x'],\n",
    "       ['+', 'x', 'x', '+', 'x', 'x', '+', '+'],\n",
    "       ['+', '+', '+', '+', '+', '+', 'x', '+'],\n",
    "       ['x', 'x', 'x', 'x', '+', '+', 'x', '+'],\n",
    "       ['x', 'x', 'x', '+', '+', '+', '+', '+'],\n",
    "       ['+', '+', '+', 'x', 'x', 'x', '+', 'x'],\n",
    "       ['x', 'x', 'x', 'x', '+', '+', 'x', '+']])"
   ]
  },
  {
   "cell_type": "code",
   "execution_count": 5,
   "metadata": {},
   "outputs": [
    {
     "data": {
      "text/plain": [
       "array([['+', '+', 'x', 'x', 'x', 'x', '+', '+'],\n",
       "       ['x', 'x', 'x', '+', 'x', '+', '+', '+'],\n",
       "       ['+', 'x', 'x', '+', '+', '+', 'x', 'x'],\n",
       "       ['+', 'x', 'x', 'x', 'x', 'x', 'x', 'x'],\n",
       "       ['+', 'x', 'x', '+', 'x', 'x', '+', '+'],\n",
       "       ['+', '+', '+', '+', '+', '+', 'x', '+'],\n",
       "       ['x', 'x', 'x', 'x', '+', '+', 'x', '+'],\n",
       "       ['x', 'x', 'x', '+', '+', '+', '+', '+'],\n",
       "       ['+', '+', '+', 'x', 'x', 'x', '+', 'x'],\n",
       "       ['x', 'x', 'x', 'x', '+', '+', 'x', '+']], dtype='<U1')"
      ]
     },
     "execution_count": 5,
     "metadata": {},
     "output_type": "execute_result"
    }
   ],
   "source": [
    "alice_bases"
   ]
  },
  {
   "cell_type": "code",
   "execution_count": null,
   "metadata": {},
   "outputs": [],
   "source": []
  }
 ],
 "metadata": {
  "kernelspec": {
   "display_name": "Python 3",
   "language": "python",
   "name": "python3"
  },
  "language_info": {
   "codemirror_mode": {
    "name": "ipython",
    "version": 3
   },
   "file_extension": ".py",
   "mimetype": "text/x-python",
   "name": "python",
   "nbconvert_exporter": "python",
   "pygments_lexer": "ipython3",
   "version": "3.7.1"
  }
 },
 "nbformat": 4,
 "nbformat_minor": 2
}
