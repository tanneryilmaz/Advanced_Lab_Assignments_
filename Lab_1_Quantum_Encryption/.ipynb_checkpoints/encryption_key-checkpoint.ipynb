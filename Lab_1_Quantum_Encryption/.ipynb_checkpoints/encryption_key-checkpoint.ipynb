{
 "cells": [
  {
   "cell_type": "code",
   "execution_count": 1,
   "metadata": {},
   "outputs": [],
   "source": [
    "import numpy as np"
   ]
  },
  {
   "cell_type": "code",
   "execution_count": 2,
   "metadata": {},
   "outputs": [],
   "source": [
    "alice_bases = np.array([['+', '+', 'x', 'x', 'x', 'x', '+', '+'],\n",
    "       ['x', 'x', 'x', '+', 'x', '+', '+', '+'],\n",
    "       ['+', 'x', 'x', '+', '+', '+', 'x', 'x'],\n",
    "       ['+', 'x', 'x', 'x', 'x', 'x', 'x', 'x'],\n",
    "       ['+', 'x', 'x', '+', 'x', 'x', '+', '+'],\n",
    "       ['+', '+', '+', '+', '+', '+', 'x', '+'],\n",
    "       ['x', 'x', 'x', 'x', '+', '+', 'x', '+'],\n",
    "       ['x', 'x', 'x', '+', '+', '+', '+', '+'],\n",
    "       ['+', '+', '+', 'x', 'x', 'x', '+', 'x'],\n",
    "       ['x', 'x', 'x', 'x', '+', '+', 'x', '+'],\n",
    "       ['x', '+', 'x', '+', 'x', '+', '+', 'x'],\n",
    "       ['x', 'x', '+', 'x', 'x', '+', '+', 'x'],\n",
    "       ['x', 'x', '+', '+', '+', 'x', 'x', 'x'],\n",
    "       ['x', '+', '+', '+', 'x', 'x', 'x', '+'],\n",
    "       ['x', 'x', 'x', 'x', 'x', 'x', '+', 'x'],\n",
    "       ['+', '+', '+', '+', '+', 'x', 'x', '+'],\n",
    "       ['+', '+', '+', 'x', '+', '+', '+', 'x'],\n",
    "       ['+', 'x', 'x', '+', 'x', 'x', '+', '+'],\n",
    "       ['+', '+', '+', '+', '+', '+', '+', 'x'],\n",
    "       ['+', '+', '+', 'x', 'x', 'x', '+', '+']])\n",
    "\n",
    "bob_bases = np.array([['+', 'x', '+', 'x', 'x', '+', 'x', '+'],\n",
    "       ['+', '+', '+', 'x', 'x', '+', 'x', 'x'],\n",
    "       ['+', 'x', '+', 'x', 'x', 'x', '+', '+'],\n",
    "       ['x', 'x', '+', 'x', '+', '+', 'x', 'x'],\n",
    "       ['+', 'x', '+', 'x', '+', 'x', 'x', 'x'],\n",
    "       ['+', '+', '+', '+', '+', '+', '+', '+'],\n",
    "       ['x', 'x', '+', '+', 'x', 'x', '+', '+'],\n",
    "       ['+', '+', '+', '+', '+', 'x', 'x', '+'],\n",
    "       ['x', '+', 'x', 'x', 'x', 'x', 'x', 'x'],\n",
    "       ['+', '+', 'x', '+', 'x', '+', '+', 'x'],\n",
    "       ['+', '+', '+', 'x', 'x', 'x', 'x', 'x'],\n",
    "       ['+', 'x', '+', 'x', 'x', 'x', '+', 'x'],\n",
    "       ['x', '+', 'x', '+', '+', 'x', 'x', 'x'],\n",
    "       ['x', 'x', '+', 'x', 'x', 'x', '+', 'x'],\n",
    "       ['+', 'x', 'x', 'x', '+', 'x', 'x', 'x'],\n",
    "       ['x', '+', 'x', '+', 'x', '+', '+', '+'],\n",
    "       ['+', 'x', '+', '+', 'x', '+', 'x', '+'],\n",
    "       ['+', 'x', '+', '+', '+', 'x', '+', 'x'],\n",
    "       ['+', 'x', '+', '+', '+', '+', 'x', 'x'],\n",
    "       ['x', 'x', 'x', 'x', 'x', '+', 'x', '+']])\n",
    "\n",
    "alice_bits = np.array([[0, 1, 0, 0, 0, 1, 0, 1],\n",
    "       [0, 0, 0, 1, 1, 0, 1, 1],\n",
    "       [0, 1, 0, 1, 0, 1, 1, 1],\n",
    "       [0, 1, 0, 0, 0, 0, 0, 1],\n",
    "       [0, 0, 0, 1, 1, 1, 1, 0],\n",
    "       [1, 1, 1, 0, 0, 0, 1, 0],\n",
    "       [0, 1, 1, 1, 1, 1, 0, 1],\n",
    "       [1, 0, 1, 1, 1, 1, 0, 1],\n",
    "       [0, 0, 0, 0, 1, 1, 0, 1],\n",
    "       [0, 1, 1, 1, 0, 0, 0, 0],\n",
    "       [1, 1, 0, 0, 0, 0, 0, 0],\n",
    "       [0, 0, 0, 0, 0, 0, 0, 0],\n",
    "       [0, 0, 1, 0, 1, 1, 0, 0],\n",
    "       [1, 1, 0, 1, 1, 0, 1, 0],\n",
    "       [0, 1, 0, 1, 0, 1, 0, 0],\n",
    "       [0, 0, 0, 0, 1, 0, 0, 1],\n",
    "       [1, 0, 1, 0, 1, 1, 0, 1],\n",
    "       [0, 1, 1, 0, 1, 0, 0, 0],\n",
    "       [1, 0, 1, 1, 1, 1, 1, 1],\n",
    "       [0, 0, 1, 1, 0, 1, 0, 0]])\n",
    "\n"
   ]
  },
  {
   "cell_type": "code",
   "execution_count": 3,
   "metadata": {},
   "outputs": [],
   "source": [
    "# Ask Dr. Bondar how to do this with list comprehension\n",
    "# for i in range(len(alice_bases.flat)):\n",
    "#     correct_bits = [b if (alice_bases.flat[i] == bob_bases.flat[i]) else None for b in alice_bits.flat ]"
   ]
  },
  {
   "cell_type": "code",
   "execution_count": 4,
   "metadata": {},
   "outputs": [],
   "source": [
    "# I failed at doing it with list comprehension, so I will use a for loop\n",
    "correct_bits = np.array([])\n",
    "\n",
    "for i in range(len(alice_bases.flat)):\n",
    "    if(alice_bases.flat[i] == bob_bases.flat[i]):\n",
    "        correct_bits = np.append(correct_bits, alice_bits.flat[i])"
   ]
  },
  {
   "cell_type": "code",
   "execution_count": 5,
   "metadata": {},
   "outputs": [],
   "source": [
    "encryp_key = correct_bits[:55]"
   ]
  },
  {
   "cell_type": "code",
   "execution_count": 6,
   "metadata": {},
   "outputs": [
    {
     "data": {
      "text/plain": [
       "(79, 55, 160)"
      ]
     },
     "execution_count": 6,
     "metadata": {},
     "output_type": "execute_result"
    }
   ],
   "source": [
    "len(correct_bits), len(encryp_key), len(alice_bases.flat)"
   ]
  },
  {
   "cell_type": "code",
   "execution_count": 7,
   "metadata": {},
   "outputs": [
    {
     "data": {
      "text/plain": [
       "array([0., 0., 0., 1., 1., 0., 0., 1., 1., 0., 0., 1., 0., 0., 1., 1., 1.,\n",
       "       1., 0., 0., 0., 0., 0., 1., 1., 1., 1., 1., 0., 0., 1., 1., 1., 1.,\n",
       "       0., 1., 0., 0., 0., 0., 0., 0., 0., 0., 0., 0., 1., 1., 0., 0., 1.,\n",
       "       0., 1., 0., 1.])"
      ]
     },
     "execution_count": 7,
     "metadata": {},
     "output_type": "execute_result"
    }
   ],
   "source": [
    "# these are the bits for which alice and bob used the same basis. \n",
    "encryp_key"
   ]
  },
  {
   "cell_type": "markdown",
   "metadata": {},
   "source": [
    "# Encrypting Message"
   ]
  },
  {
   "cell_type": "code",
   "execution_count": 8,
   "metadata": {},
   "outputs": [
    {
     "data": {
      "text/plain": [
       "array(['0', '0', '0', '0', '0', '0', '0', '0', '1', '1', '1', '0', '1',\n",
       "       '0', '1', '0', '0', '0', '0', '0', '0', '1', '1', '0', '1', '0',\n",
       "       '0', '0', '1', '0', '0', '0', '1', '0', '0', '0', '0', '0', '1',\n",
       "       '1', '0', '1', '0', '1', '1', '0', '0', '0', '0', '0', '0', '0',\n",
       "       '0', '0', '1'], dtype='<U1')"
      ]
     },
     "execution_count": 8,
     "metadata": {},
     "output_type": "execute_result"
    }
   ],
   "source": [
    "a = \"00000\"\n",
    "d = \"00011\"\n",
    "v = \"10101\"\n",
    "n = \"01101\"\n",
    "c = \"00010\"\n",
    "e = \"00100\"\n",
    "l = \"01011\"\n",
    "b = \"00001\"\n",
    "\n",
    "bin_message = a + d + v + a + n + c + e + d + l + a + b\n",
    "bin_message = list(bin_message)\n",
    "bin_message = np.array(bin_message)\n",
    "bin_message #this is the unencrypted message "
   ]
  },
  {
   "cell_type": "markdown",
   "metadata": {},
   "source": [
    "# Eve Present"
   ]
  },
  {
   "cell_type": "code",
   "execution_count": 21,
   "metadata": {},
   "outputs": [
    {
     "name": "stdout",
     "output_type": "stream",
     "text": [
      "Bob will use the following bits as his decryption key:\n",
      "\n",
      " ['1' '1' '0' '1' '1' '0' '1' '1' '1' '0' '0' '1' '0' '0' '1' '1' '1' '1'\n",
      " '0' '0' '0' '1' '0' '1' '1' '0' '1' '1' '0' '0' '0' '1' '1' '1' '0' '1'\n",
      " '0' '0' '1' '1' '0' '0' '0' '0' '0' '0' '0' '0' '0' '0' '1' '0' '0' '0'\n",
      " '1']\n"
     ]
    }
   ],
   "source": [
    "# Bob received these bits from eve:\n",
    "eve_to_bob = list(\"1101000101001000111111000100110100110111111000110101110100001011000001111011000001100010011001000110000010000000010\")\n",
    "\n",
    "bob_bits = np.array(eve_to_bob)\n",
    "\n",
    "eve_to_bob = np.array([])\n",
    "\n",
    "for i in range(len(bob_bits)):\n",
    "    if(alice_bases.flat[i] == bob_bases.flat[i]):\n",
    "        eve_to_bob = np.append(eve_to_bob, bob_bits.flat[i])\n",
    "\n",
    "print(\"Bob will use the following bits as his decryption key:\\n\\n\", eve_to_bob[0:55])"
   ]
  },
  {
   "cell_type": "markdown",
   "metadata": {},
   "source": [
    "# When Alice and Bob used the same basis, what percentage of their bits differed with Eve present ?"
   ]
  },
  {
   "cell_type": "code",
   "execution_count": 40,
   "metadata": {},
   "outputs": [
    {
     "name": "stdout",
     "output_type": "stream",
     "text": [
      "+ + 0 1\n",
      "x x 0 1\n",
      "+ + 0 1\n",
      "+ + 0 1\n",
      "+ + 1 0\n",
      "x x 1 0\n",
      "x x 0 1\n",
      "+ + 0 1\n",
      "+ + 1 0\n",
      "x x 1 0\n",
      "x x 1 0\n"
     ]
    },
    {
     "data": {
      "text/plain": [
       "(56, 11, 115, True)"
      ]
     },
     "execution_count": 40,
     "metadata": {},
     "output_type": "execute_result"
    }
   ],
   "source": [
    "# Eve sent 115 bits to Bob. Bob recorded 55 of these bits for his encryption key. \n",
    "\n",
    "temp = [int(b) for b in bob_bits]\n",
    "bob_bits_int = np.array(temp) # converting to integer array so comparison will work correctly\n",
    "\n",
    "differing_bits = 0\n",
    "same_basis = 0 # number of times alice and bob used the same basis. \n",
    "\n",
    "\n",
    "for i in range(len(bob_bits_int.flat)):\n",
    "    if(alice_bases.flat[i] == bob_bases.flat[i]):\n",
    "        same_basis = same_basis + 1\n",
    "        \n",
    "for i in range(len(bob_bits_int.flat)):\n",
    "    if(alice_bits.flat[i] != bob_bits_int.flat[i] and alice_bases.flat[i] == bob_bases.flat[i]): \n",
    "        print(alice_bases.flat[i], bob_bases.flat[i], alice_bits.flat[i], bob_bits_int.flat[i])\n",
    "        differing_bits = differing_bits + 1\n",
    "\n",
    "# Out of the number of times alice and bob used the same basis, how many times did bob get a different bit than alice sent him? \n",
    "same_basis, differing_bits, len(bob_bits), 1 != 0"
   ]
  },
  {
   "cell_type": "code",
   "execution_count": 44,
   "metadata": {},
   "outputs": [
    {
     "data": {
      "text/plain": [
       "0.2"
      ]
     },
     "execution_count": 44,
     "metadata": {},
     "output_type": "execute_result"
    }
   ],
   "source": [
    "# Eve introduced errors to 20% of the bits that Bob received while using the same basis as Alice.\n",
    "11/55"
   ]
  }
 ],
 "metadata": {
  "kernelspec": {
   "display_name": "Python 3",
   "language": "python",
   "name": "python3"
  },
  "language_info": {
   "codemirror_mode": {
    "name": "ipython",
    "version": 3
   },
   "file_extension": ".py",
   "mimetype": "text/x-python",
   "name": "python",
   "nbconvert_exporter": "python",
   "pygments_lexer": "ipython3",
   "version": "3.7.1"
  }
 },
 "nbformat": 4,
 "nbformat_minor": 2
}
