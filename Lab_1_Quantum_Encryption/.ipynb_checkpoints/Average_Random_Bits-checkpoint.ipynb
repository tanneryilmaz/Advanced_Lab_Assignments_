{
 "cells": [
  {
   "cell_type": "code",
   "execution_count": 2,
   "metadata": {},
   "outputs": [],
   "source": [
    "import numpy as np\n"
   ]
  },
  {
   "cell_type": "code",
   "execution_count": 3,
   "metadata": {},
   "outputs": [],
   "source": [
    "bits = np.array([0,1])"
   ]
  },
  {
   "cell_type": "code",
   "execution_count": 4,
   "metadata": {},
   "outputs": [],
   "source": [
    "average_50 = sum(np.random.choice(bits, 50)) / 50\n",
    "average_500 = sum(np.random.choice(bits, 500)) / 500\n",
    "average_5mil = sum(np.random.choice(bits, 5000000)) / 5000000"
   ]
  },
  {
   "cell_type": "code",
   "execution_count": 5,
   "metadata": {},
   "outputs": [
    {
     "name": "stdout",
     "output_type": "stream",
     "text": [
      "0.42 0.48 0.5000396\n"
     ]
    }
   ],
   "source": [
    "print(average_50, average_500, average_5mil)"
   ]
  },
  {
   "cell_type": "code",
   "execution_count": 6,
   "metadata": {},
   "outputs": [],
   "source": [
    "bits_165 = \"100010101110101011000101010100101011101001000101011010001010100110101010100101000101000010101101011011011101001011100101010110101001101101111001111101100010101010101\""
   ]
  },
  {
   "cell_type": "code",
   "execution_count": 7,
   "metadata": {},
   "outputs": [
    {
     "data": {
      "text/plain": [
       "('1000101011101010110001010101001010111010010001010110100',\n",
       " '0101010011010101010010100010100001010110101101101110100',\n",
       " '1011100101010110101001101101111001111101100010101010101')"
      ]
     },
     "execution_count": 7,
     "metadata": {},
     "output_type": "execute_result"
    }
   ],
   "source": [
    "bits1 = np.array(list(bits_165[0:55]))\n",
    "bits2 = np.array(list(bits_165[55:110]))\n",
    "bits3 = np.array(list(bits_165[110:]))\n",
    "\n",
    "bits_165[0:55], bits_165[55:110], bits_165[110:]\n",
    "\n"
   ]
  },
  {
   "cell_type": "code",
   "execution_count": 94,
   "metadata": {},
   "outputs": [
    {
     "name": "stdout",
     "output_type": "stream",
     "text": [
      "[1 0 1 0 1 0 1 0 0 0 0 0 0 1 0 0 0 1 1 0 1 1 1 0 0 1 0 0 1 0 0 1 0 0 0 0 0\n",
      " 0 1 0 0 1 0 1 1 0 1 1 1 1 1 0 0 1 1]\n",
      "[1 1 0 0 1 0 0 1 1 1 0 1 1 1 1 1 1 0 1 0 0 1 0 1 1 1 1 1 0 0 0 1 1 1 1 1 1\n",
      " 1 0 0 0 0 1 0 0 1 1 0 1 1 1 1 0 1 0]\n",
      "[0 1 0 0 1 0 1 1 0 1 0 1 0 1 0 1 1 1 1 1 0 0 1 0 0 1 1 1 0 1 1 1 0 0 0 0 1\n",
      " 1 0 0 1 0 0 1 1 0 0 0 1 1 0 0 0 0 0]\n",
      "[1 1 1 0 1 0 0 0 1 0 1 0 0 1 1 0 0 0 0 0 0 0 1 0 1 0 1 0 0 0 1 1 1 1 0 0 1\n",
      " 0 0 0 0 1 0 1 1 1 1 1 0 1 0 1 1 0 1]\n",
      "[0 1 1 0 0 0 0 1 1 0 1 0 1 0 0 0 1 1 0 1 1 1 0 0 0 0 0 0 1 0 1 0 0 0 1 0 0\n",
      " 0 0 0 1 1 1 1 1 1 0 0 1 0 1 1 0 1 0]\n",
      "[1 0 1 0 0 0 1 1 1 1 0 1 0 1 1 0 1 0 0 1 1 1 1 1 0 1 1 0 0 0 0 0 0 0 0 0 0\n",
      " 0 0 0 1 1 0 1 0 0 0 0 1 1 1 1 1 1 1]\n",
      "[1 1 1 1 1 1 0 1 0 0 0 0 0 0 0 1 1 0 0 1 0 1 1 0 0 1 0 1 1 1 0 0 1 0 0 1 1\n",
      " 1 1 0 0 0 0 0 0 0 1 0 1 1 1 1 0 1 1]\n",
      "[1 0 1 1 1 1 1 0 1 0 1 1 1 0 0 1 0 0 0 0 1 1 1 1 0 1 0 1 1 0 1 0 1 1 1 0 1\n",
      " 0 0 1 1 1 1 1 0 0 1 1 0 1 1 1 0 0 1]\n",
      "[0 1 0 1 1 0 1 0 0 1 0 0 0 1 0 0 0 1 1 1 0 1 0 1 1 1 1 0 0 0 0 1 0 1 1 0 0\n",
      " 0 1 0 1 1 1 0 1 1 0 0 1 1 1 0 0 0 0]\n",
      "[1 1 0 0 0 0 1 1 0 1 0 0 0 0 1 0 0 1 0 1 0 0 1 0 0 1 1 1 1 1 0 1 1 0 1 1 1\n",
      " 1 1 0 0 0 1 1 1 0 0 0 0 1 1 0 0 1 1]\n"
     ]
    }
   ],
   "source": [
    "for i in range(10):\n",
    "    x = np.random.choice(bits, 55)\n",
    "    print(x)\n",
    "    i = i + 1\n"
   ]
  },
  {
   "cell_type": "code",
   "execution_count": 93,
   "metadata": {},
   "outputs": [
    {
     "name": "stdout",
     "output_type": "stream",
     "text": [
      "max consec = 1\n",
      "1 1\n",
      "max consec = 1\n",
      "1 1\n"
     ]
    }
   ],
   "source": [
    "def consec(bit):\n",
    "    counter = 1\n",
    "    maxConsec = 0\n",
    "        \n",
    "    for i in range(x.size):\n",
    "            \n",
    "            if(x.flat[i - 1] == x.flat[i] and x.flat[i] == bit):\n",
    "                counter = counter + 1\n",
    "                print(\"loop\" + str(counter))\n",
    " \n",
    "            else:\n",
    "                if(counter > maxConsec):\n",
    "                    maxConsec = counter\n",
    "                    counter = 0\n",
    "                    print(\"max consec = \" + str(maxConsec))  \n",
    "                    \n",
    "    return maxConsec\n",
    "\n",
    "print(consec(0), x.size)\n",
    "print(consec(1), x.size)"
   ]
  },
  {
   "cell_type": "code",
   "execution_count": null,
   "metadata": {},
   "outputs": [],
   "source": []
  },
  {
   "cell_type": "code",
   "execution_count": null,
   "metadata": {},
   "outputs": [],
   "source": []
  }
 ],
 "metadata": {
  "kernelspec": {
   "display_name": "Python 3",
   "language": "python",
   "name": "python3"
  },
  "language_info": {
   "codemirror_mode": {
    "name": "ipython",
    "version": 3
   },
   "file_extension": ".py",
   "mimetype": "text/x-python",
   "name": "python",
   "nbconvert_exporter": "python",
   "pygments_lexer": "ipython3",
   "version": "3.7.1"
  }
 },
 "nbformat": 4,
 "nbformat_minor": 2
}
