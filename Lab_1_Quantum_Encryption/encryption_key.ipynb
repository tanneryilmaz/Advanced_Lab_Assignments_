{
 "cells": [
  {
   "cell_type": "code",
   "execution_count": 81,
   "metadata": {},
   "outputs": [],
   "source": [
    "import numpy as np"
   ]
  },
  {
   "cell_type": "code",
   "execution_count": 96,
   "metadata": {},
   "outputs": [],
   "source": [
    "alice_bases = np.array([['+', '+', 'x', 'x', 'x', 'x', '+', '+'],\n",
    "       ['x', 'x', 'x', '+', 'x', '+', '+', '+'],\n",
    "       ['+', 'x', 'x', '+', '+', '+', 'x', 'x'],\n",
    "       ['+', 'x', 'x', 'x', 'x', 'x', 'x', 'x'],\n",
    "       ['+', 'x', 'x', '+', 'x', 'x', '+', '+'],\n",
    "       ['+', '+', '+', '+', '+', '+', 'x', '+'],\n",
    "       ['x', 'x', 'x', 'x', '+', '+', 'x', '+'],\n",
    "       ['x', 'x', 'x', '+', '+', '+', '+', '+'],\n",
    "       ['+', '+', '+', 'x', 'x', 'x', '+', 'x'],\n",
    "       ['x', 'x', 'x', 'x', '+', '+', 'x', '+'],\n",
    "       ['x', '+', 'x', '+', 'x', '+', '+', 'x'],\n",
    "       ['x', 'x', '+', 'x', 'x', '+', '+', 'x'],\n",
    "       ['x', 'x', '+', '+', '+', 'x', 'x', 'x'],\n",
    "       ['x', '+', '+', '+', 'x', 'x', 'x', '+'],\n",
    "       ['x', 'x', 'x', 'x', 'x', 'x', '+', 'x'],\n",
    "       ['+', '+', '+', '+', '+', 'x', 'x', '+'],\n",
    "       ['+', '+', '+', 'x', '+', '+', '+', 'x'],\n",
    "       ['+', 'x', 'x', '+', 'x', 'x', '+', '+'],\n",
    "       ['+', '+', '+', '+', '+', '+', '+', 'x'],\n",
    "       ['+', '+', '+', 'x', 'x', 'x', '+', '+']])\n",
    "\n",
    "bob_bases = np.array([['+', 'x', '+', 'x', 'x', '+', 'x', '+'],\n",
    "       ['+', '+', '+', 'x', 'x', '+', 'x', 'x'],\n",
    "       ['+', 'x', '+', 'x', 'x', 'x', '+', '+'],\n",
    "       ['x', 'x', '+', 'x', '+', '+', 'x', 'x'],\n",
    "       ['+', 'x', '+', 'x', '+', 'x', 'x', 'x'],\n",
    "       ['+', '+', '+', '+', '+', '+', '+', '+'],\n",
    "       ['x', 'x', '+', '+', 'x', 'x', '+', '+'],\n",
    "       ['+', '+', '+', '+', '+', 'x', 'x', '+'],\n",
    "       ['x', '+', 'x', 'x', 'x', 'x', 'x', 'x'],\n",
    "       ['+', '+', 'x', '+', 'x', '+', '+', 'x'],\n",
    "       ['+', '+', '+', 'x', 'x', 'x', 'x', 'x'],\n",
    "       ['+', 'x', '+', 'x', 'x', 'x', '+', 'x'],\n",
    "       ['x', '+', 'x', '+', '+', 'x', 'x', 'x'],\n",
    "       ['x', 'x', '+', 'x', 'x', 'x', '+', 'x'],\n",
    "       ['+', 'x', 'x', 'x', '+', 'x', 'x', 'x'],\n",
    "       ['x', '+', 'x', '+', 'x', '+', '+', '+'],\n",
    "       ['+', 'x', '+', '+', 'x', '+', 'x', '+'],\n",
    "       ['+', 'x', '+', '+', '+', 'x', '+', 'x'],\n",
    "       ['+', 'x', '+', '+', '+', '+', 'x', 'x'],\n",
    "       ['x', 'x', 'x', 'x', 'x', '+', 'x', '+']])\n",
    "\n",
    "alice_bits = np.array([[0, 1, 0, 0, 0, 1, 0, 1],\n",
    "       [0, 0, 0, 1, 1, 0, 1, 1],\n",
    "       [0, 1, 0, 1, 0, 1, 1, 1],\n",
    "       [0, 1, 0, 0, 0, 0, 0, 1],\n",
    "       [0, 0, 0, 1, 1, 1, 1, 0],\n",
    "       [1, 1, 1, 0, 0, 0, 1, 0],\n",
    "       [0, 1, 1, 1, 1, 1, 0, 1],\n",
    "       [1, 0, 1, 1, 1, 1, 0, 1],\n",
    "       [0, 0, 0, 0, 1, 1, 0, 1],\n",
    "       [0, 1, 1, 1, 0, 0, 0, 0],\n",
    "       [1, 1, 0, 0, 0, 0, 0, 0],\n",
    "       [0, 0, 0, 0, 0, 0, 0, 0],\n",
    "       [0, 0, 1, 0, 1, 1, 0, 0],\n",
    "       [1, 1, 0, 1, 1, 0, 1, 0],\n",
    "       [0, 1, 0, 1, 0, 1, 0, 0],\n",
    "       [0, 0, 0, 0, 1, 0, 0, 1],\n",
    "       [1, 0, 1, 0, 1, 1, 0, 1],\n",
    "       [0, 1, 1, 0, 1, 0, 0, 0],\n",
    "       [1, 0, 1, 1, 1, 1, 1, 1],\n",
    "       [0, 0, 1, 1, 0, 1, 0, 0]])\n",
    "\n"
   ]
  },
  {
   "cell_type": "code",
   "execution_count": 130,
   "metadata": {},
   "outputs": [],
   "source": [
    "# Ask Dr. Bondar how to do this with list comprehension\n",
    "# for i in range(len(alice_bases.flat)):\n",
    "#     correct_bits = [b if (alice_bases.flat[i] == bob_bases.flat[i]) else None for b in alice_bits.flat ]"
   ]
  },
  {
   "cell_type": "code",
   "execution_count": 135,
   "metadata": {},
   "outputs": [],
   "source": [
    "# I failed at doing it with list comprehension, so I will use a for loop\n",
    "correct_bits = np.array([])\n",
    "\n",
    "for i in range(len(alice_bases.flat)):\n",
    "    if(alice_bases.flat[i] == bob_bases.flat[i]):\n",
    "        correct_bits = np.append(correct_bits, alice_bits.flat[i])"
   ]
  },
  {
   "cell_type": "code",
   "execution_count": 136,
   "metadata": {},
   "outputs": [],
   "source": [
    "encryp_key = correct_bits[:55]"
   ]
  },
  {
   "cell_type": "code",
   "execution_count": 137,
   "metadata": {},
   "outputs": [
    {
     "data": {
      "text/plain": [
       "(79, 55, 160)"
      ]
     },
     "execution_count": 137,
     "metadata": {},
     "output_type": "execute_result"
    }
   ],
   "source": [
    "len(correct_bits), len(encryp_key), len(alice_bases.flat)"
   ]
  },
  {
   "cell_type": "code",
   "execution_count": 139,
   "metadata": {},
   "outputs": [
    {
     "data": {
      "text/plain": [
       "array([0., 0., 0., 1., 1., 0., 0., 1., 1., 0., 0., 1., 0., 0., 1., 1., 1.,\n",
       "       1., 0., 0., 0., 0., 0., 1., 1., 1., 1., 1., 0., 0., 1., 1., 1., 1.,\n",
       "       0., 1., 0., 0., 0., 0., 0., 0., 0., 0., 0., 0., 1., 1., 0., 0., 1.,\n",
       "       0., 1., 0., 1.])"
      ]
     },
     "execution_count": 139,
     "metadata": {},
     "output_type": "execute_result"
    }
   ],
   "source": [
    "encryp_key"
   ]
  }
 ],
 "metadata": {
  "kernelspec": {
   "display_name": "Python 3",
   "language": "python",
   "name": "python3"
  },
  "language_info": {
   "codemirror_mode": {
    "name": "ipython",
    "version": 3
   },
   "file_extension": ".py",
   "mimetype": "text/x-python",
   "name": "python",
   "nbconvert_exporter": "python",
   "pygments_lexer": "ipython3",
   "version": "3.7.1"
  }
 },
 "nbformat": 4,
 "nbformat_minor": 2
}
