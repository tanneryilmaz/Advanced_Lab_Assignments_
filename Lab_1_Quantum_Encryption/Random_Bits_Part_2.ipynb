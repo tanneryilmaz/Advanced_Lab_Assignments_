{
 "cells": [
  {
   "cell_type": "code",
   "execution_count": 1,
   "metadata": {},
   "outputs": [],
   "source": [
    "import numpy as np"
   ]
  },
  {
   "cell_type": "code",
   "execution_count": 2,
   "metadata": {},
   "outputs": [],
   "source": [
    "bases = [\"+\", \"x\"]\n",
    "bits = [0, 1]"
   ]
  },
  {
   "cell_type": "code",
   "execution_count": 3,
   "metadata": {},
   "outputs": [
    {
     "data": {
      "text/plain": [
       "array([['x', '+', 'x', '+', 'x', '+', '+', 'x'],\n",
       "       ['x', 'x', '+', 'x', 'x', '+', '+', 'x'],\n",
       "       ['x', 'x', '+', '+', '+', 'x', 'x', 'x'],\n",
       "       ['x', '+', '+', '+', 'x', 'x', 'x', '+'],\n",
       "       ['x', 'x', 'x', 'x', 'x', 'x', '+', 'x'],\n",
       "       ['+', '+', '+', '+', '+', 'x', 'x', '+'],\n",
       "       ['+', '+', '+', 'x', '+', '+', '+', 'x'],\n",
       "       ['+', 'x', 'x', '+', 'x', 'x', '+', '+'],\n",
       "       ['+', '+', '+', '+', '+', '+', '+', 'x'],\n",
       "       ['+', '+', '+', 'x', 'x', 'x', '+', '+']], dtype='<U1')"
      ]
     },
     "execution_count": 3,
     "metadata": {},
     "output_type": "execute_result"
    }
   ],
   "source": [
    "random_bases_alice = np.random.choice(bases, size = (10, 8))\n",
    "random_bases_bob = np.random.choice(bases, size = (10, 8))\n",
    "random_bits_alice = np.random.choice(bits, size = (10, 8))\n",
    "random_bases_alice"
   ]
  },
  {
   "cell_type": "code",
   "execution_count": 4,
   "metadata": {},
   "outputs": [
    {
     "data": {
      "text/plain": [
       "array([['+', '+', '+', 'x', 'x', 'x', 'x', 'x'],\n",
       "       ['+', 'x', '+', 'x', 'x', 'x', '+', 'x'],\n",
       "       ['x', '+', 'x', '+', '+', 'x', 'x', 'x'],\n",
       "       ['x', 'x', '+', 'x', 'x', 'x', '+', 'x'],\n",
       "       ['+', 'x', 'x', 'x', '+', 'x', 'x', 'x'],\n",
       "       ['x', '+', 'x', '+', 'x', '+', '+', '+'],\n",
       "       ['+', 'x', '+', '+', 'x', '+', 'x', '+'],\n",
       "       ['+', 'x', '+', '+', '+', 'x', '+', 'x'],\n",
       "       ['+', 'x', '+', '+', '+', '+', 'x', 'x'],\n",
       "       ['x', 'x', 'x', 'x', 'x', '+', 'x', '+']], dtype='<U1')"
      ]
     },
     "execution_count": 4,
     "metadata": {},
     "output_type": "execute_result"
    }
   ],
   "source": [
    "random_bases_bob"
   ]
  },
  {
   "cell_type": "code",
   "execution_count": 5,
   "metadata": {},
   "outputs": [
    {
     "data": {
      "text/plain": [
       "array([[1, 1, 0, 0, 0, 0, 0, 0],\n",
       "       [0, 0, 0, 0, 0, 0, 0, 0],\n",
       "       [0, 0, 1, 0, 1, 1, 0, 0],\n",
       "       [1, 1, 0, 1, 1, 0, 1, 0],\n",
       "       [0, 1, 0, 1, 0, 1, 0, 0],\n",
       "       [0, 0, 0, 0, 1, 0, 0, 1],\n",
       "       [1, 0, 1, 0, 1, 1, 0, 1],\n",
       "       [0, 1, 1, 0, 1, 0, 0, 0],\n",
       "       [1, 0, 1, 1, 1, 1, 1, 1],\n",
       "       [0, 0, 1, 1, 0, 1, 0, 0]])"
      ]
     },
     "execution_count": 5,
     "metadata": {},
     "output_type": "execute_result"
    }
   ],
   "source": [
    "random_bits_alice"
   ]
  },
  {
   "cell_type": "code",
   "execution_count": 6,
   "metadata": {},
   "outputs": [
    {
     "ename": "TypeError",
     "evalue": "ufunc 'add' did not contain a loop with signature matching types dtype('<U1') dtype('<U1') dtype('<U1')",
     "output_type": "error",
     "traceback": [
      "\u001b[1;31m---------------------------------------------------------------------------\u001b[0m",
      "\u001b[1;31mTypeError\u001b[0m                                 Traceback (most recent call last)",
      "\u001b[1;32m<ipython-input-6-8e3056f1e255>\u001b[0m in \u001b[0;36m<module>\u001b[1;34m\u001b[0m\n\u001b[1;32m----> 1\u001b[1;33m \u001b[0my\u001b[0m \u001b[1;33m=\u001b[0m \u001b[0mrandom_bases_alice\u001b[0m \u001b[1;33m+\u001b[0m \u001b[0mrandom_bases_bob\u001b[0m \u001b[1;33m+\u001b[0m \u001b[0mrandom_bits_alice\u001b[0m\u001b[1;33m\u001b[0m\u001b[1;33m\u001b[0m\u001b[0m\n\u001b[0m",
      "\u001b[1;31mTypeError\u001b[0m: ufunc 'add' did not contain a loop with signature matching types dtype('<U1') dtype('<U1') dtype('<U1')"
     ]
    }
   ],
   "source": [
    "y = random_bases_alice + random_bases_bob + random_bits_alice"
   ]
  },
  {
   "cell_type": "code",
   "execution_count": null,
   "metadata": {},
   "outputs": [],
   "source": []
  }
 ],
 "metadata": {
  "kernelspec": {
   "display_name": "Python 3",
   "language": "python",
   "name": "python3"
  },
  "language_info": {
   "codemirror_mode": {
    "name": "ipython",
    "version": 3
   },
   "file_extension": ".py",
   "mimetype": "text/x-python",
   "name": "python",
   "nbconvert_exporter": "python",
   "pygments_lexer": "ipython3",
   "version": "3.7.1"
  }
 },
 "nbformat": 4,
 "nbformat_minor": 2
}
