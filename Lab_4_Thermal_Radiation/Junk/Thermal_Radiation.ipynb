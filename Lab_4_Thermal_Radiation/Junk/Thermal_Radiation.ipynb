{
 "cells": [
  {
   "cell_type": "markdown",
   "metadata": {},
   "source": [
    "# Thermal Radiation Lab "
   ]
  },
  {
   "cell_type": "code",
   "execution_count": 33,
   "metadata": {},
   "outputs": [],
   "source": [
    "import numpy as np\n",
    "import matplotlib.pyplot as plt\n",
    "import math"
   ]
  },
  {
   "cell_type": "markdown",
   "metadata": {},
   "source": [
    "### Steps 11 and 12"
   ]
  },
  {
   "cell_type": "code",
   "execution_count": 34,
   "metadata": {},
   "outputs": [
    {
     "data": {
      "text/plain": [
       "array([0.11661904, 0.04      , 0.04      , 0.27856777])"
      ]
     },
     "execution_count": 34,
     "metadata": {},
     "output_type": "execute_result"
    }
   ],
   "source": [
    "black_face = np.array([18.8, 18.8, 18.6, 18.7, 18.5]) # these four arrays store voltage measurements in millivolts\n",
    "mirror_face = np.array([0.9, 1.0, 0.9, 0.9, 0.9])\n",
    "silver_face = np.array([5.5, 5.6, 5.5, 5.5, 5.5])\n",
    "white_face = np.array([17.3, 17.2, 17.9, 17.8, 17.7])\n",
    "\n",
    "four_faces_mV = np.vstack((black_face, mirror_face, silver_face, white_face))\n",
    "four_faces_mV_uncertainty = np.std(four_faces_mV, axis = 1)\n",
    "\n",
    "cube_equilib_resistance = 4.3 # kilo-Ohm's\n",
    "cube_equilib_temp = 108 # celisius. determined using table in lab manual\n",
    "\n",
    "def stef_bolt(epsilon, sigma, temp):\n",
    "    '''epsilon is emissivity, sigma is stefan-boltzmann constant. this function returns power per unit area'''\n",
    "    return epsilon * sigma * temp**4\n",
    "four_faces_mV_uncertainty"
   ]
  },
  {
   "cell_type": "markdown",
   "metadata": {},
   "source": [
    "### Analysis Question 2"
   ]
  },
  {
   "cell_type": "code",
   "execution_count": 35,
   "metadata": {},
   "outputs": [],
   "source": [
    "calibration = 50 # each mV measured on the radiation sensor corresponds to 50 Watts per meter squared\n",
    "STEF_BOLTZ_CONST = 5.67e-8 # units of Watts / (meter ^ 2 * Kelvin ^ 4)\n",
    "four_faces_avg = np.average(four_faces_mV, axis = 1) # units of millivolts\n",
    "four_faces_power = four_faces_avg * calibration # units of Watts per meter squared\n",
    "emissivity = four_faces_power / (STEF_BOLTZ_CONST * cube_equilib_temp**4) # these quantities are dimensionless (unitless)"
   ]
  },
  {
   "cell_type": "code",
   "execution_count": 36,
   "metadata": {},
   "outputs": [],
   "source": [
    "uncert_emissivity = (1/(STEF_BOLTZ_CONST * cube_equilib_temp**4)) * 50 * four_faces_mV_uncertainty"
   ]
  },
  {
   "cell_type": "code",
   "execution_count": 120,
   "metadata": {},
   "outputs": [
    {
     "data": {
      "text/plain": [
       "(array([121.07899162,   5.96320515,  35.77923093, 113.94907242]),\n",
       " array([0.75589483, 0.25926979, 0.25926979, 1.80560515]))"
      ]
     },
     "execution_count": 120,
     "metadata": {},
     "output_type": "execute_result"
    }
   ],
   "source": [
    "# all of the temperature values in this array are the same, which shows that our data analysis is correct so far\n",
    "testing_temp = (four_faces_power / (emissivity * STEF_BOLTZ_CONST))**0.25 \n",
    "emissivity, uncert_emissivity"
   ]
  },
  {
   "cell_type": "markdown",
   "metadata": {},
   "source": [
    "### Analysis Inverse Square Law"
   ]
  },
  {
   "cell_type": "code",
   "execution_count": 60,
   "metadata": {},
   "outputs": [
    {
     "data": {
      "text/plain": [
       "array([33.63333333, 16.73333333,  9.36666667,  6.26666667,  4.83333333,\n",
       "        3.33333333,  2.3       ,  1.8       ,  1.5       ,  1.33333333,\n",
       "        1.2       ,  1.1       ,  1.06666667,  1.        ])"
      ]
     },
     "execution_count": 60,
     "metadata": {},
     "output_type": "execute_result"
    }
   ],
   "source": [
    "distance = np.array([4,6,8,10,12,15,20,25,30,35,40,50,60,80]) # distance in cm of the radiation sensor from the S-B bulb\n",
    "radiation_level_mV = np.vstack(([32.4,31.9,33.6],[15.9,15.8,15.5],[8.4,8.3,8.4],[5.3,4.9,5.6],[3.9,3.8,3.8],\n",
    "                                [2.4,2.2,2.4],[1.3,1.2,1.4],[0.8,0.8,0.8],[0.5,0.5,0.5],[0.3,0.4,0.3],[0.2,0.2,0.2],\n",
    "                                [0.1,0.1,0.1],[0.1,0,0.1],[0,0,0])) # units of mV\n",
    "avg_radiation_lvl_mV = np.mean(radiation_level_mV, axis = 1) - (-1) # units of mV. subtracting 1 mV because that is background lvl \n",
    "average_radiation_lvl_err = (3*(0.33**2)*(0.05*2))**0.5 # this is error due to lack of precision of voltmeter\n",
    "avg_radiation_lvl_mV_err = ((np.std(radiation_level_mV, axis = 1))**2 + (average_radiation_lvl_err**2))**0.5 # Add the error in x to this\n",
    "# Now we will account for the error in the distance measurments\n",
    "avg_radiation_lvl_mV"
   ]
  },
  {
   "cell_type": "code",
   "execution_count": 121,
   "metadata": {},
   "outputs": [
    {
     "data": {
      "text/plain": [
       "array([0.73590685, 0.24811064, 0.1867946 , 0.33895755, 0.1867946 ,\n",
       "       0.20385997, 0.19833473, 0.18074844, 0.18074844, 0.1867946 ,\n",
       "       0.18074844, 0.18074844, 0.1867946 , 0.18074844])"
      ]
     },
     "execution_count": 121,
     "metadata": {},
     "output_type": "execute_result"
    }
   ],
   "source": [
    "avg_radiation_lvl_mV_err"
   ]
  },
  {
   "cell_type": "markdown",
   "metadata": {},
   "source": [
    "### Plotting Radiation Level vs. Distance"
   ]
  },
  {
   "cell_type": "code",
   "execution_count": 61,
   "metadata": {},
   "outputs": [
    {
     "data": {
      "text/plain": [
       "Text(0.5, 0.98, 'radiation level vs distance')"
      ]
     },
     "execution_count": 61,
     "metadata": {},
     "output_type": "execute_result"
    },
    {
     "data": {
      "image/png": "[encoded data removed]",
      "text/plain": [
       "<Figure size 432x288 with 1 Axes>"
      ]
     },
     "metadata": {
      "needs_background": "light"
     },
     "output_type": "display_data"
    }
   ],
   "source": [
    "plt.errorbar(distance, avg_radiation_lvl_mV, yerr = avg_radiation_lvl_mV_err, fmt = \"bo\", markersize = \"5\", linewidth=3)\n",
    "plt.xlabel('distance (cm)')\n",
    "plt.ylabel('radiation level (mV)')\n",
    "plt.suptitle(\"radiation level vs distance\")"
   ]
  },
  {
   "cell_type": "markdown",
   "metadata": {},
   "source": [
    "### Plotting log-log data"
   ]
  },
  {
   "cell_type": "code",
   "execution_count": 62,
   "metadata": {},
   "outputs": [],
   "source": [
    "# plt.plot(np.log(distance), np.log(avg_radiation_lvl_mV), 'ro')\n",
    "# plt.xlabel('log(distance)')\n",
    "# plt.ylabel('log(radiation level)')\n",
    "# avg_radiation_lvl_mV, distance"
   ]
  },
  {
   "cell_type": "markdown",
   "metadata": {},
   "source": [
    "### Determining coefficients for log-log regression"
   ]
  },
  {
   "cell_type": "code",
   "execution_count": 63,
   "metadata": {},
   "outputs": [],
   "source": [
    "x = np.log(distance)\n",
    "y = np.log(avg_radiation_lvl_mV)\n",
    "err_y = np.log(avg_radiation_lvl_mV_err)\n",
    "\n",
    "delta = sum(1/err_y**2) * sum(x**2/err_y**2) - (sum(x/err_y**2))**2\n",
    "m = (sum(1/err_y**2) * sum(x*y/err_y**2) - sum(x/err_y**2) * sum(y/err_y**2)) / delta\n",
    "b = (sum(x**2/err_y**2) * sum(y/err_y**2) - sum(x/err_y**2) * sum(x*y/err_y**2)) / delta\n",
    "\n",
    "errm = math.sqrt(sum(1/err_y**2) / delta)\n",
    "errb = math.sqrt(sum(x**2/err_y**2) / delta)\n",
    "fittemp = m*(x) + b\n",
    "\n",
    "#calculating chi-squared\n",
    "deg_of_freedom = 12\n",
    "chisq = sum((y - fittemp)**2/err_y**2)\n",
    "reduced_chisq = chisq / deg_of_freedom"
   ]
  },
  {
   "cell_type": "code",
   "execution_count": 64,
   "metadata": {},
   "outputs": [
    {
     "data": {
      "text/plain": [
       "['fit slope = -1.409 ± 0.284',\n",
       " 'fit intercept = 5.414 ± 0.6',\n",
       " 'Chi-squared: 0.63',\n",
       " 'Reduced Chi-squared: 0.05']"
      ]
     },
     "execution_count": 64,
     "metadata": {},
     "output_type": "execute_result"
    },
    {
     "data": {
      "image/png": "[encoded data removed]",
      "text/plain": [
       "<Figure size 432x288 with 1 Axes>"
      ]
     },
     "metadata": {
      "needs_background": "light"
     },
     "output_type": "display_data"
    }
   ],
   "source": [
    "plt.errorbar(x, y, yerr = err_y, fmt = \"bo\", markersize = \"5\", linewidth=3)\n",
    "plt.xlabel('log(distance)')\n",
    "plt.ylabel('log(radiation level)')\n",
    "plt.suptitle(\"log(radiation level) vs log(distance)\")\n",
    "\n",
    "plt.plot(x, m * x + b, 'r') # Plotting line of best fit\n",
    "plt.savefig('log-log-regression.png')\n",
    "\n",
    "m_rounded = str(round(float(m), 3))\n",
    "merr_rounded = str(round(float(errm), 3))\n",
    "b_rounded = str(round(float(b), 3))\n",
    "berr_rounded = str(round(float(errb), 3))\n",
    "chisq_rounded = str(round(float(chisq), 2))\n",
    "reduced_chisq_rounded = str(round(float(reduced_chisq), 2))\n",
    "\n",
    "uncertainties = [\"fit slope = \" + m_rounded + u\" \\u00B1 \" + merr_rounded,\n",
    "\"fit intercept = \" + b_rounded + u\" \\u00B1 \" + berr_rounded,\n",
    "\"Chi-squared: \" + str(chisq_rounded),\n",
    "\"Reduced Chi-squared: \" + str(reduced_chisq_rounded)]\n",
    "uncertainties"
   ]
  },
  {
   "cell_type": "markdown",
   "metadata": {},
   "source": [
    "### Analysis - Plotting Radiation Level vs. Filament Temperature"
   ]
  },
  {
   "cell_type": "code",
   "execution_count": 109,
   "metadata": {},
   "outputs": [],
   "source": [
    "background_radiation = (0 + (-.04)) / 2\n",
    "\n",
    "# filament_current = np.array([.81,.83,.81],[.98,.98,.98],[1.12,1.12,1.12],[1.25,1.25,1.25],[1.37,1.37,1.37])\n",
    "\n",
    "radiation_lvl_mV = [[.28,.63,.79],[.82,1,1.08],[1.58,1.66,1.71],[2.47,2.52,2.55],[3.53,3.54,3.56],[4.74,4.73,4.72],\n",
    "                    [6.07,6.02,5.98],[6.92,6.9,6.69],[7.6,7.49,7.42],[8.98,8.98,8.93]]\n",
    "radiation_lvl_mV_avg = np.mean(radiation_lvl_mV, axis=1) - background_radiation\n",
    "radiation_lvl_mV_avg_err = (3*(.005**2)*(.33**2))**0.5 # error due to precision limitation of voltmeter\n",
    "radiation_lvl_mV_avg_err = ((np.std(radiation_lvl_mV, axis = 1))**2 + (radiation_lvl_mV_avg_err**2))**0.5"
   ]
  },
  {
   "cell_type": "markdown",
   "metadata": {},
   "source": [
    "### Determining Filament Temperature Using Voltage and Current Measurments"
   ]
  },
  {
   "cell_type": "code",
   "execution_count": 110,
   "metadata": {},
   "outputs": [],
   "source": [
    "filament_voltage_mV = np.array([2.00,3.00,4.00,5.00,6.00,7.00,8.00,8.50,9.00,10.00]) # THESE VALUES SHOULD BE UPDATED WITH MORE PRECISE ONES SENT BY ALEX\n",
    "filament_current = np.array([.81,.98,1.12,1.25,1.37,1.48,1.59,1.64,1.69,1.79]) # units of amperes\n",
    "current_err = .005 # amperes\n",
    "volt_err = .005 # mV\n"
   ]
  },
  {
   "cell_type": "code",
   "execution_count": 111,
   "metadata": {},
   "outputs": [
    {
     "data": {
      "text/plain": [
       "array([2.39721923, 2.97206261, 3.46740638, 3.88349515, 4.25200198,\n",
       "       4.59197061, 4.88489955, 5.0319678 , 5.17033377, 5.4238759 ])"
      ]
     },
     "execution_count": 111,
     "metadata": {},
     "output_type": "execute_result"
    }
   ],
   "source": [
    "R_ref = 1.03 # units of ohm's I AM NOT SURE IF THIS VALUE IS CORRECT! I MUST DOUBLE CHECK WITH ALEX\n",
    "filament_resistance = filament_voltage_mV / filament_current # units of milliohm's\n",
    "resistance_err = ((volt_err**2 + (filament_resistance**2)*current_err**2)**0.5)/filament_current # error in resistance\n",
    "relative_resistance = filament_resistance / R_ref\n",
    "relative_resistance_err = (1 / R_ref)*(resistance_err)\n",
    "# USE TABLE IN LAB MANUAL TO DETERMINE FILAMENT TEMPERATURE\n",
    "relative_resistance"
   ]
  },
  {
   "cell_type": "code",
   "execution_count": 122,
   "metadata": {},
   "outputs": [
    {
     "data": {
      "text/plain": [
       "array([0.01596518, 0.01595214, 0.01607484, 0.01601206, 0.01591765,\n",
       "       0.01585636, 0.01566178, 0.01562431, 0.0155642 , 0.0153913 ])"
      ]
     },
     "execution_count": 122,
     "metadata": {},
     "output_type": "execute_result"
    }
   ],
   "source": [
    "relative_resistance_err "
   ]
  },
  {
   "cell_type": "markdown",
   "metadata": {},
   "source": [
    "### Fitting data to table of temperature versus resistivity for tungsten"
   ]
  },
  {
   "cell_type": "code",
   "execution_count": 112,
   "metadata": {},
   "outputs": [],
   "source": [
    "x = np.array([300,600,1000,1700,2000,2200,2900,3200]) # units of kelvin\n",
    "y = np.array([1,2.34,4.41,8.28,10.03,11.24,15.63,17.62]) # unitless. random values chosen from the table in manual\n",
    "\n",
    "std_x = (((np.std(x) ** 2) * len(x)) / (len(x) - 1))**0.5 # std_mV is the sample standard deviation\n",
    "std_y = (((np.std(y) ** 2) * len(y)) / (len(y) - 1))**0.5 # std_Kelvin is the sample standard deviation\n",
    "\n",
    "x_mean = np.mean(x) # x mean\n",
    "y_mean = np.mean(y) # y mean\n",
    "\n",
    "r = sum((x - x_mean) * (y - y_mean)) / (np.sqrt(sum((x - x_mean) ** 2) * sum((y - y_mean) ** 2)))  \n",
    "\n",
    "m = r * (std_y / std_x)\n",
    "b = y_mean - (m * x_mean)"
   ]
  },
  {
   "cell_type": "code",
   "execution_count": 113,
   "metadata": {},
   "outputs": [
    {
     "name": "stdout",
     "output_type": "stream",
     "text": [
      "m = 0.005744212925280809\n",
      "b = -1.1618199576754051\n",
      "This line of best fit is used to convert from relative resistivity to Kelvin\n"
     ]
    },
    {
     "data": {
      "image/png": "[encoded data removed]",
      "text/plain": [
       "<Figure size 432x288 with 1 Axes>"
      ]
     },
     "metadata": {
      "needs_background": "light"
     },
     "output_type": "display_data"
    }
   ],
   "source": [
    "plt.errorbar(x, y, yerr = 0, fmt = \"bo\", markersize = \"5\", linewidth=3)\n",
    "# x = np.linspace(-1, 8, 10)\n",
    "# y = m*x + b\n",
    "plt.plot(x, y, 'r') # Plotting line of best fit\n",
    "plt.xlabel('Temperature (Kelvin)')\n",
    "plt.ylabel('Relative Resistivity (unitless)')\n",
    "plt.suptitle('Relative Resistivity vs. Temperature')\n",
    "# plt.savefig('temp_vs_resistivity.png')\n",
    "print('m = ' + str(m) + '\\nb = ' + str(b) + '\\nThis line of best fit is used to convert from relative resistivity to Kelvin')"
   ]
  },
  {
   "cell_type": "code",
   "execution_count": 114,
   "metadata": {},
   "outputs": [],
   "source": [
    "def resitance_to_temperature(relative_resistivity, m, b):\n",
    "    '''takes the relative_resistivity, slope, and y-intercept, and returns the filament temperature, \n",
    "    in Kelvin, corresponding to the given relative resistivity'''\n",
    "    return (relative_resistivity - b) / m"
   ]
  },
  {
   "cell_type": "code",
   "execution_count": 115,
   "metadata": {},
   "outputs": [
    {
     "data": {
      "text/plain": [
       "(array([[   2.39721923,  619.58691812],\n",
       "        [   2.97206261,  719.66039959],\n",
       "        [   3.46740638,  805.8939315 ],\n",
       "        [   3.88349515,  878.3300983 ],\n",
       "        [   4.25200198,  942.4828105 ],\n",
       "        [   4.59197061, 1001.66735529],\n",
       "        [   4.88489955, 1052.66284356],\n",
       "        [   5.0319678 , 1078.26569691],\n",
       "        [   5.17033377, 1102.35358853],\n",
       "        [   5.4238759 , 1146.49229495]]),\n",
       " array([9.17074085e-05, 9.16325026e-05, 9.23373050e-05, 9.19766859e-05,\n",
       "        9.14343515e-05, 9.10823318e-05, 8.99645933e-05, 8.97493473e-05,\n",
       "        8.94040577e-05, 8.84108820e-05]))"
      ]
     },
     "execution_count": 115,
     "metadata": {},
     "output_type": "execute_result"
    }
   ],
   "source": [
    "filament_temperature = [(relative_resistance[i], resitance_to_temperature(relative_resistance[i], m, b)) for i in range(0, relative_resistance.size)]\n",
    "filament_temperature = np.array(filament_temperature) # contains rows of the following form [relative resistance, temperature]\n",
    "filament_temperature_err = m * relative_resistance_err \n",
    "filament_temperature, filament_temperature_err"
   ]
  },
  {
   "cell_type": "code",
   "execution_count": 116,
   "metadata": {},
   "outputs": [],
   "source": [
    "# plt.plot(filament_temperature[:, 1], filament_temperature[:, 0], 'o')\n",
    "# plt.xlabel('filament_temperature (Kelvin)')\n",
    "# plt.ylabel('radiation_level (mV)')\n",
    "# filament_temperature[:, 0] # THIS GRAPH SHOULDN'T BE PERFECTLY LINEAR BUT IT IS BECAUSE OF THE INTERPOLATION METHOD USED "
   ]
  },
  {
   "cell_type": "code",
   "execution_count": 117,
   "metadata": {},
   "outputs": [
    {
     "data": {
      "text/plain": [
       "array([0.21298761, 0.1087676 , 0.05361748, 0.03312184, 0.01279543,\n",
       "       0.00865067, 0.03692862, 0.10406916, 0.07414214, 0.02374285])"
      ]
     },
     "execution_count": 117,
     "metadata": {},
     "output_type": "execute_result"
    },
    {
     "data": {
      "image/png": "[encoded data removed]",
      "text/plain": [
       "<Figure size 432x288 with 1 Axes>"
      ]
     },
     "metadata": {
      "needs_background": "light"
     },
     "output_type": "display_data"
    }
   ],
   "source": [
    "x = filament_temperature[:, 1]\n",
    "y = radiation_lvl_mV_avg\n",
    "err_y = radiation_lvl_mV_avg_err # error in filament temperature is not included because it is negligible\n",
    "\n",
    "plt.errorbar(x, y, yerr = err_y, fmt = \"bo\", markersize = \"5\", linewidth=3)\n",
    "plt.xlabel('filament_temperature (mV)')\n",
    "plt.ylabel('radiation level (mV)')\n",
    "plt.suptitle(\"radiation level vs filament_temperature\")\n",
    "radiation_lvl_mV_avg_err"
   ]
  },
  {
   "cell_type": "code",
   "execution_count": 118,
   "metadata": {},
   "outputs": [
    {
     "data": {
      "text/plain": [
       "['fit slope = 4.473 ± 3.523',\n",
       " 'fit intercept = -29.344 ± 23.701',\n",
       " 'Chi-squared: 0.0',\n",
       " 'Reduced Chi-squared: 0.0']"
      ]
     },
     "execution_count": 118,
     "metadata": {},
     "output_type": "execute_result"
    },
    {
     "data": {
      "image/png": "[encoded data removed]",
      "text/plain": [
       "<Figure size 432x288 with 1 Axes>"
      ]
     },
     "metadata": {
      "needs_background": "light"
     },
     "output_type": "display_data"
    }
   ],
   "source": [
    "x = np.log(filament_temperature[:, 1])\n",
    "y = np.log(radiation_lvl_mV_avg)\n",
    "err_y = np.log(radiation_lvl_mV_avg_err) # (1 / radiation_lvl_mV_avg_err) * err_in_the_error ?\n",
    "\n",
    "delta = sum(1/err_y**2) * sum(x**2/err_y**2) - (sum(x/err_y**2))**2\n",
    "m = (sum(1/err_y**2) * sum(x*y/err_y**2) - sum(x/err_y**2) * sum(y/err_y**2)) / delta\n",
    "b = (sum(x**2/err_y**2) * sum(y/err_y**2) - sum(x/err_y**2) * sum(x*y/err_y**2)) / delta\n",
    "\n",
    "errm = math.sqrt(sum(1/err_y**2) / delta)\n",
    "errb = math.sqrt(sum(x**2/err_y**2) / delta)\n",
    "fittemp = m*(x) + b\n",
    "\n",
    "#calculating chi-squared\n",
    "deg_of_freedom = 8\n",
    "chisq = sum((y - fittemp)**2/err_y**2)\n",
    "reduced_chisq = chisq / deg_of_freedom\n",
    "\n",
    "plt.errorbar(x, y, yerr = err_y, fmt = \"bo\", markersize = \"5\", linewidth=3)\n",
    "plt.xlabel('log(filament_temperature)')\n",
    "plt.ylabel('log(radiation level)')\n",
    "plt.suptitle(\"log(radiation level) vs log(filament_temperature)\")\n",
    "\n",
    "plt.plot(x, m * x + b, 'r') # Plotting line of best fit\n",
    "plt.savefig('log-log-regression.png')\n",
    "\n",
    "m_rounded = str(round(float(m), 3))\n",
    "merr_rounded = str(round(float(errm), 3))\n",
    "b_rounded = str(round(float(b), 3))\n",
    "berr_rounded = str(round(float(errb), 3))\n",
    "chisq_rounded = str(round(float(chisq), 2))\n",
    "reduced_chisq_rounded = str(round(float(reduced_chisq), 2))\n",
    "\n",
    "uncertainties = [\"fit slope = \" + m_rounded + u\" \\u00B1 \" + merr_rounded,\n",
    "\"fit intercept = \" + b_rounded + u\" \\u00B1 \" + berr_rounded,\n",
    "\"Chi-squared: \" + str(chisq_rounded),\n",
    "\"Reduced Chi-squared: \" + str(reduced_chisq_rounded)]\n",
    "uncertainties\n",
    "# THIS GRAPH IS LINEAR WHICH IS A HUGE PROBLEM. IT MAKES MY DATA ANALYSIS LOOK SILLY BECAUSE I HAVE A PERFECT FIT"
   ]
  },
  {
   "cell_type": "code",
   "execution_count": 119,
   "metadata": {},
   "outputs": [
    {
     "data": {
      "text/plain": [
       "array([-1.54652127, -2.21854183, -2.92588014, -3.40756235, -4.35866712,\n",
       "       -4.750118  , -3.29876839, -2.26269962, -2.60177127, -3.74047373])"
      ]
     },
     "execution_count": 119,
     "metadata": {},
     "output_type": "execute_result"
    }
   ],
   "source": [
    "err_y"
   ]
  },
  {
   "cell_type": "code",
   "execution_count": null,
   "metadata": {},
   "outputs": [],
   "source": [
    "#The errors in radiation level are very small, but when "
   ]
  }
 ],
 "metadata": {
  "kernelspec": {
   "display_name": "Python 3",
   "language": "python",
   "name": "python3"
  },
  "language_info": {
   "codemirror_mode": {
    "name": "ipython",
    "version": 3
   },
   "file_extension": ".py",
   "mimetype": "text/x-python",
   "name": "python",
   "nbconvert_exporter": "python",
   "pygments_lexer": "ipython3",
   "version": "3.7.1"
  }
 },
 "nbformat": 4,
 "nbformat_minor": 2
}
